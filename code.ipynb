{
 "cells": [
  {
   "cell_type": "markdown",
   "id": "serial-windows",
   "metadata": {},
   "source": [
    "# RFM analysis"
   ]
  },
  {
   "cell_type": "markdown",
   "id": "weighted-somerset",
   "metadata": {},
   "source": [
    "This code conducts three different RFM analysis methods (independent RFM, sequential RFM, sequential RFM with a 0.9 confidence interval) on retail transaction data to predict customer's response rate to a campaign."
   ]
  },
  {
   "cell_type": "code",
   "execution_count": 1,
   "id": "military-silver",
   "metadata": {},
   "outputs": [],
   "source": [
    "import pandas as pd\n",
    "import pyrsm as rsm\n",
    "import numpy as np\n",
    "import qgrid\n",
    "import seaborn as sns\n",
    "import matplotlib.pyplot as plt\n",
    "from sklearn.model_selection import train_test_split\n",
    "from sklearn.model_selection import StratifiedShuffleSplit\n",
    "import datetime as dt"
   ]
  },
  {
   "cell_type": "markdown",
   "id": "fossil-affect",
   "metadata": {},
   "source": [
    "## Read and check the data"
   ]
  },
  {
   "cell_type": "code",
   "execution_count": 2,
   "id": "presidential-kingdom",
   "metadata": {},
   "outputs": [],
   "source": [
    "response = pd.read_csv(\"./data/Retail_Data_Response.csv\")\n",
    "trans = pd.read_csv(\"./data/Retail_Data_Transactions.csv\")"
   ]
  },
  {
   "cell_type": "code",
   "execution_count": 3,
   "id": "arbitrary-acquisition",
   "metadata": {},
   "outputs": [
    {
     "data": {
      "text/html": [
       "<div>\n",
       "<style scoped>\n",
       "    .dataframe tbody tr th:only-of-type {\n",
       "        vertical-align: middle;\n",
       "    }\n",
       "\n",
       "    .dataframe tbody tr th {\n",
       "        vertical-align: top;\n",
       "    }\n",
       "\n",
       "    .dataframe thead th {\n",
       "        text-align: right;\n",
       "    }\n",
       "</style>\n",
       "<table border=\"1\" class=\"dataframe\">\n",
       "  <thead>\n",
       "    <tr style=\"text-align: right;\">\n",
       "      <th></th>\n",
       "      <th>customer_id</th>\n",
       "      <th>response</th>\n",
       "    </tr>\n",
       "  </thead>\n",
       "  <tbody>\n",
       "    <tr>\n",
       "      <th>0</th>\n",
       "      <td>CS1112</td>\n",
       "      <td>0</td>\n",
       "    </tr>\n",
       "    <tr>\n",
       "      <th>1</th>\n",
       "      <td>CS1113</td>\n",
       "      <td>0</td>\n",
       "    </tr>\n",
       "    <tr>\n",
       "      <th>2</th>\n",
       "      <td>CS1114</td>\n",
       "      <td>1</td>\n",
       "    </tr>\n",
       "    <tr>\n",
       "      <th>3</th>\n",
       "      <td>CS1115</td>\n",
       "      <td>1</td>\n",
       "    </tr>\n",
       "    <tr>\n",
       "      <th>4</th>\n",
       "      <td>CS1116</td>\n",
       "      <td>1</td>\n",
       "    </tr>\n",
       "  </tbody>\n",
       "</table>\n",
       "</div>"
      ],
      "text/plain": [
       "  customer_id  response\n",
       "0      CS1112         0\n",
       "1      CS1113         0\n",
       "2      CS1114         1\n",
       "3      CS1115         1\n",
       "4      CS1116         1"
      ]
     },
     "execution_count": 3,
     "metadata": {},
     "output_type": "execute_result"
    }
   ],
   "source": [
    "response.head()"
   ]
  },
  {
   "cell_type": "code",
   "execution_count": 4,
   "id": "compound-third",
   "metadata": {},
   "outputs": [
    {
     "name": "stdout",
     "output_type": "stream",
     "text": [
      "<class 'pandas.core.frame.DataFrame'>\n",
      "RangeIndex: 6884 entries, 0 to 6883\n",
      "Data columns (total 2 columns):\n",
      " #   Column       Non-Null Count  Dtype \n",
      "---  ------       --------------  ----- \n",
      " 0   customer_id  6884 non-null   object\n",
      " 1   response     6884 non-null   int64 \n",
      "dtypes: int64(1), object(1)\n",
      "memory usage: 107.7+ KB\n"
     ]
    }
   ],
   "source": [
    "response.info()"
   ]
  },
  {
   "cell_type": "code",
   "execution_count": 5,
   "id": "lucky-talent",
   "metadata": {},
   "outputs": [
    {
     "data": {
      "text/plain": [
       "0"
      ]
     },
     "execution_count": 5,
     "metadata": {},
     "output_type": "execute_result"
    }
   ],
   "source": [
    "response.duplicated().sum()"
   ]
  },
  {
   "cell_type": "code",
   "execution_count": 6,
   "id": "sporting-hollow",
   "metadata": {},
   "outputs": [
    {
     "data": {
      "text/html": [
       "<div>\n",
       "<style scoped>\n",
       "    .dataframe tbody tr th:only-of-type {\n",
       "        vertical-align: middle;\n",
       "    }\n",
       "\n",
       "    .dataframe tbody tr th {\n",
       "        vertical-align: top;\n",
       "    }\n",
       "\n",
       "    .dataframe thead th {\n",
       "        text-align: right;\n",
       "    }\n",
       "</style>\n",
       "<table border=\"1\" class=\"dataframe\">\n",
       "  <thead>\n",
       "    <tr style=\"text-align: right;\">\n",
       "      <th></th>\n",
       "      <th>customer_id</th>\n",
       "      <th>trans_date</th>\n",
       "      <th>tran_amount</th>\n",
       "    </tr>\n",
       "  </thead>\n",
       "  <tbody>\n",
       "    <tr>\n",
       "      <th>0</th>\n",
       "      <td>CS5295</td>\n",
       "      <td>11-Feb-13</td>\n",
       "      <td>35</td>\n",
       "    </tr>\n",
       "    <tr>\n",
       "      <th>1</th>\n",
       "      <td>CS4768</td>\n",
       "      <td>15-Mar-15</td>\n",
       "      <td>39</td>\n",
       "    </tr>\n",
       "    <tr>\n",
       "      <th>2</th>\n",
       "      <td>CS2122</td>\n",
       "      <td>26-Feb-13</td>\n",
       "      <td>52</td>\n",
       "    </tr>\n",
       "    <tr>\n",
       "      <th>3</th>\n",
       "      <td>CS1217</td>\n",
       "      <td>16-Nov-11</td>\n",
       "      <td>99</td>\n",
       "    </tr>\n",
       "    <tr>\n",
       "      <th>4</th>\n",
       "      <td>CS1850</td>\n",
       "      <td>20-Nov-13</td>\n",
       "      <td>78</td>\n",
       "    </tr>\n",
       "  </tbody>\n",
       "</table>\n",
       "</div>"
      ],
      "text/plain": [
       "  customer_id trans_date  tran_amount\n",
       "0      CS5295  11-Feb-13           35\n",
       "1      CS4768  15-Mar-15           39\n",
       "2      CS2122  26-Feb-13           52\n",
       "3      CS1217  16-Nov-11           99\n",
       "4      CS1850  20-Nov-13           78"
      ]
     },
     "execution_count": 6,
     "metadata": {},
     "output_type": "execute_result"
    }
   ],
   "source": [
    "trans.head()"
   ]
  },
  {
   "cell_type": "code",
   "execution_count": 7,
   "id": "weighted-adolescent",
   "metadata": {},
   "outputs": [
    {
     "name": "stdout",
     "output_type": "stream",
     "text": [
      "<class 'pandas.core.frame.DataFrame'>\n",
      "RangeIndex: 125000 entries, 0 to 124999\n",
      "Data columns (total 3 columns):\n",
      " #   Column       Non-Null Count   Dtype \n",
      "---  ------       --------------   ----- \n",
      " 0   customer_id  125000 non-null  object\n",
      " 1   trans_date   125000 non-null  object\n",
      " 2   tran_amount  125000 non-null  int64 \n",
      "dtypes: int64(1), object(2)\n",
      "memory usage: 2.9+ MB\n"
     ]
    }
   ],
   "source": [
    "trans.info()"
   ]
  },
  {
   "cell_type": "code",
   "execution_count": 8,
   "id": "numeric-steam",
   "metadata": {},
   "outputs": [
    {
     "data": {
      "text/plain": [
       "6"
      ]
     },
     "execution_count": 8,
     "metadata": {},
     "output_type": "execute_result"
    }
   ],
   "source": [
    "trans.duplicated().sum()"
   ]
  },
  {
   "cell_type": "code",
   "execution_count": 9,
   "id": "motivated-cylinder",
   "metadata": {},
   "outputs": [],
   "source": [
    "trans = trans.drop_duplicates()"
   ]
  },
  {
   "cell_type": "code",
   "execution_count": 10,
   "id": "industrial-victoria",
   "metadata": {},
   "outputs": [
    {
     "data": {
      "text/plain": [
       "0"
      ]
     },
     "execution_count": 10,
     "metadata": {},
     "output_type": "execute_result"
    }
   ],
   "source": [
    "trans.duplicated().sum()"
   ]
  },
  {
   "cell_type": "markdown",
   "id": "sophisticated-excerpt",
   "metadata": {},
   "source": [
    "## Pre-processing"
   ]
  },
  {
   "cell_type": "code",
   "execution_count": 11,
   "id": "blank-union",
   "metadata": {},
   "outputs": [
    {
     "data": {
      "text/html": [
       "<div>\n",
       "<style scoped>\n",
       "    .dataframe tbody tr th:only-of-type {\n",
       "        vertical-align: middle;\n",
       "    }\n",
       "\n",
       "    .dataframe tbody tr th {\n",
       "        vertical-align: top;\n",
       "    }\n",
       "\n",
       "    .dataframe thead th {\n",
       "        text-align: right;\n",
       "    }\n",
       "</style>\n",
       "<table border=\"1\" class=\"dataframe\">\n",
       "  <thead>\n",
       "    <tr style=\"text-align: right;\">\n",
       "      <th></th>\n",
       "      <th>customer_id</th>\n",
       "      <th>recency</th>\n",
       "      <th>frequency</th>\n",
       "      <th>monetary</th>\n",
       "      <th>response</th>\n",
       "    </tr>\n",
       "  </thead>\n",
       "  <tbody>\n",
       "    <tr>\n",
       "      <th>0</th>\n",
       "      <td>CS1112</td>\n",
       "      <td>61</td>\n",
       "      <td>15</td>\n",
       "      <td>1012</td>\n",
       "      <td>0</td>\n",
       "    </tr>\n",
       "    <tr>\n",
       "      <th>1</th>\n",
       "      <td>CS1113</td>\n",
       "      <td>35</td>\n",
       "      <td>20</td>\n",
       "      <td>1490</td>\n",
       "      <td>0</td>\n",
       "    </tr>\n",
       "    <tr>\n",
       "      <th>2</th>\n",
       "      <td>CS1114</td>\n",
       "      <td>32</td>\n",
       "      <td>19</td>\n",
       "      <td>1432</td>\n",
       "      <td>1</td>\n",
       "    </tr>\n",
       "    <tr>\n",
       "      <th>3</th>\n",
       "      <td>CS1115</td>\n",
       "      <td>11</td>\n",
       "      <td>22</td>\n",
       "      <td>1659</td>\n",
       "      <td>1</td>\n",
       "    </tr>\n",
       "    <tr>\n",
       "      <th>4</th>\n",
       "      <td>CS1116</td>\n",
       "      <td>203</td>\n",
       "      <td>13</td>\n",
       "      <td>857</td>\n",
       "      <td>1</td>\n",
       "    </tr>\n",
       "    <tr>\n",
       "      <th>...</th>\n",
       "      <td>...</td>\n",
       "      <td>...</td>\n",
       "      <td>...</td>\n",
       "      <td>...</td>\n",
       "      <td>...</td>\n",
       "    </tr>\n",
       "    <tr>\n",
       "      <th>6879</th>\n",
       "      <td>CS8996</td>\n",
       "      <td>97</td>\n",
       "      <td>13</td>\n",
       "      <td>582</td>\n",
       "      <td>0</td>\n",
       "    </tr>\n",
       "    <tr>\n",
       "      <th>6880</th>\n",
       "      <td>CS8997</td>\n",
       "      <td>261</td>\n",
       "      <td>14</td>\n",
       "      <td>543</td>\n",
       "      <td>0</td>\n",
       "    </tr>\n",
       "    <tr>\n",
       "      <th>6881</th>\n",
       "      <td>CS8998</td>\n",
       "      <td>84</td>\n",
       "      <td>13</td>\n",
       "      <td>624</td>\n",
       "      <td>0</td>\n",
       "    </tr>\n",
       "    <tr>\n",
       "      <th>6882</th>\n",
       "      <td>CS8999</td>\n",
       "      <td>257</td>\n",
       "      <td>12</td>\n",
       "      <td>383</td>\n",
       "      <td>0</td>\n",
       "    </tr>\n",
       "    <tr>\n",
       "      <th>6883</th>\n",
       "      <td>CS9000</td>\n",
       "      <td>16</td>\n",
       "      <td>13</td>\n",
       "      <td>533</td>\n",
       "      <td>0</td>\n",
       "    </tr>\n",
       "  </tbody>\n",
       "</table>\n",
       "<p>6884 rows × 5 columns</p>\n",
       "</div>"
      ],
      "text/plain": [
       "     customer_id  recency  frequency  monetary  response\n",
       "0         CS1112       61         15      1012         0\n",
       "1         CS1113       35         20      1490         0\n",
       "2         CS1114       32         19      1432         1\n",
       "3         CS1115       11         22      1659         1\n",
       "4         CS1116      203         13       857         1\n",
       "...          ...      ...        ...       ...       ...\n",
       "6879      CS8996       97         13       582         0\n",
       "6880      CS8997      261         14       543         0\n",
       "6881      CS8998       84         13       624         0\n",
       "6882      CS8999      257         12       383         0\n",
       "6883      CS9000       16         13       533         0\n",
       "\n",
       "[6884 rows x 5 columns]"
      ]
     },
     "execution_count": 11,
     "metadata": {},
     "output_type": "execute_result"
    }
   ],
   "source": [
    "trans.trans_date = pd.to_datetime(trans.trans_date, format=\"%d-%b-%y\")\n",
    "latest_record = trans.trans_date.max()\n",
    "trans.trans_date = pd.to_timedelta(latest_record - trans.trans_date).dt.days\n",
    "dat = trans.groupby('customer_id')['trans_date'].agg(recency=min, frequency='count')\n",
    "dat['monetary'] = trans.groupby('customer_id')['tran_amount'].sum()\n",
    "dat = dat.reset_index()\n",
    "dat = pd.merge(dat, response, on = 'customer_id')\n",
    "dat"
   ]
  },
  {
   "cell_type": "markdown",
   "id": "homeless-interpretation",
   "metadata": {},
   "source": [
    "## EDA"
   ]
  },
  {
   "cell_type": "code",
   "execution_count": 12,
   "id": "declared-replacement",
   "metadata": {},
   "outputs": [
    {
     "data": {
      "image/png": "[encoded data removed]",
      "text/plain": [
       "<Figure size 432x288 with 1 Axes>"
      ]
     },
     "metadata": {
      "needs_background": "light"
     },
     "output_type": "display_data"
    }
   ],
   "source": [
    "sns.countplot(x='response', data = dat)\n",
    "plt.show()"
   ]
  },
  {
   "cell_type": "code",
   "execution_count": 13,
   "id": "neutral-leisure",
   "metadata": {},
   "outputs": [
    {
     "data": {
      "image/png": "[encoded data removed]",
      "text/plain": [
       "<Figure size 432x288 with 1 Axes>"
      ]
     },
     "metadata": {
      "needs_background": "light"
     },
     "output_type": "display_data"
    }
   ],
   "source": [
    "sns.histplot(x='recency', data = dat, bins=30)\n",
    "plt.xticks(rotation=90)\n",
    "plt.show()"
   ]
  },
  {
   "cell_type": "code",
   "execution_count": 14,
   "id": "broadband-filename",
   "metadata": {},
   "outputs": [
    {
     "data": {
      "image/png": "[encoded data removed]",
      "text/plain": [
       "<Figure size 432x288 with 1 Axes>"
      ]
     },
     "metadata": {
      "needs_background": "light"
     },
     "output_type": "display_data"
    }
   ],
   "source": [
    "sns.histplot(x='frequency', data = dat, bins=30)\n",
    "plt.xticks(rotation=90)\n",
    "plt.show()"
   ]
  },
  {
   "cell_type": "code",
   "execution_count": 15,
   "id": "neural-possession",
   "metadata": {},
   "outputs": [
    {
     "data": {
      "image/png": "[encoded data removed]",
      "text/plain": [
       "<Figure size 432x288 with 1 Axes>"
      ]
     },
     "metadata": {
      "needs_background": "light"
     },
     "output_type": "display_data"
    }
   ],
   "source": [
    "sns.histplot(x='monetary', data = dat, bins=30)\n",
    "plt.xticks(rotation=90)\n",
    "plt.show()"
   ]
  },
  {
   "cell_type": "code",
   "execution_count": 16,
   "id": "angry-coupon",
   "metadata": {},
   "outputs": [
    {
     "data": {
      "text/html": [
       "<div>\n",
       "<style scoped>\n",
       "    .dataframe tbody tr th:only-of-type {\n",
       "        vertical-align: middle;\n",
       "    }\n",
       "\n",
       "    .dataframe tbody tr th {\n",
       "        vertical-align: top;\n",
       "    }\n",
       "\n",
       "    .dataframe thead th {\n",
       "        text-align: right;\n",
       "    }\n",
       "</style>\n",
       "<table border=\"1\" class=\"dataframe\">\n",
       "  <thead>\n",
       "    <tr style=\"text-align: right;\">\n",
       "      <th></th>\n",
       "      <th>response</th>\n",
       "      <th>recency</th>\n",
       "      <th>frequency</th>\n",
       "      <th>monetary</th>\n",
       "    </tr>\n",
       "  </thead>\n",
       "  <tbody>\n",
       "    <tr>\n",
       "      <th>response</th>\n",
       "      <td>1.000000</td>\n",
       "      <td>0.023405</td>\n",
       "      <td>0.201285</td>\n",
       "      <td>0.205523</td>\n",
       "    </tr>\n",
       "    <tr>\n",
       "      <th>recency</th>\n",
       "      <td>0.023405</td>\n",
       "      <td>1.000000</td>\n",
       "      <td>-0.285936</td>\n",
       "      <td>-0.270078</td>\n",
       "    </tr>\n",
       "    <tr>\n",
       "      <th>frequency</th>\n",
       "      <td>0.201285</td>\n",
       "      <td>-0.285936</td>\n",
       "      <td>1.000000</td>\n",
       "      <td>0.934475</td>\n",
       "    </tr>\n",
       "    <tr>\n",
       "      <th>monetary</th>\n",
       "      <td>0.205523</td>\n",
       "      <td>-0.270078</td>\n",
       "      <td>0.934475</td>\n",
       "      <td>1.000000</td>\n",
       "    </tr>\n",
       "  </tbody>\n",
       "</table>\n",
       "</div>"
      ],
      "text/plain": [
       "           response   recency  frequency  monetary\n",
       "response   1.000000  0.023405   0.201285  0.205523\n",
       "recency    0.023405  1.000000  -0.285936 -0.270078\n",
       "frequency  0.201285 -0.285936   1.000000  0.934475\n",
       "monetary   0.205523 -0.270078   0.934475  1.000000"
      ]
     },
     "execution_count": 16,
     "metadata": {},
     "output_type": "execute_result"
    }
   ],
   "source": [
    "dat[['response', 'recency', 'frequency', 'monetary']].corr()"
   ]
  },
  {
   "cell_type": "markdown",
   "id": "joined-still",
   "metadata": {},
   "source": [
    "## Baseline\n",
    "\n",
    "The baseline is to launch campaign randomly. "
   ]
  },
  {
   "cell_type": "code",
   "execution_count": 17,
   "id": "exact-handling",
   "metadata": {},
   "outputs": [],
   "source": [
    "dat = dat.assign(p_rnd = np.random.random_sample(dat.shape[0]))"
   ]
  },
  {
   "cell_type": "markdown",
   "id": "lyric-porter",
   "metadata": {},
   "source": [
    "## Generate independent RFM cells"
   ]
  },
  {
   "cell_type": "code",
   "execution_count": 18,
   "id": "weekly-python",
   "metadata": {},
   "outputs": [
    {
     "data": {
      "image/png": "[encoded data removed]",
      "text/plain": [
       "<Figure size 1152x504 with 1 Axes>"
      ]
     },
     "metadata": {
      "needs_background": "light"
     },
     "output_type": "display_data"
    }
   ],
   "source": [
    "# recency\n",
    "dat = dat.assign(rec_iq=rsm.xtile(dat[\"recency\"], 5, rev=True))\n",
    "\n",
    "# frequency\n",
    "dat = dat.assign(freq_iq=rsm.xtile(dat[\"frequency\"], 5, rev=True))\n",
    "\n",
    "# monetary\n",
    "dat = dat.assign(mon_iq=rsm.xtile(dat[\"monetary\"], 5, rev=True))\n",
    "\n",
    "# rfm_iq\n",
    "dat = dat.assign(rfm_iq = dat[\"rec_iq\"].astype(str) + dat[\"freq_iq\"].astype(str) + dat[\"mon_iq\"].astype(str))\n",
    "\n",
    "# Visualization\n",
    "plt.figure(figsize=(16, 7))\n",
    "fig = rsm.prop_plot(dat, \"rfm_iq\", \"response\", 1)\n",
    "fig.set_xticklabels(fig.get_xticklabels(), rotation=90)\n",
    "fig = fig.set(xlabel=\"Independent RFM index (rfm_iq)\")"
   ]
  },
  {
   "cell_type": "markdown",
   "id": "entertaining-fourth",
   "metadata": {},
   "source": [
    "## Generate sequential RFM cells"
   ]
  },
  {
   "cell_type": "code",
   "execution_count": 19,
   "id": "detected-reach",
   "metadata": {},
   "outputs": [
    {
     "data": {
      "image/png": "[encoded data removed]",
      "text/plain": [
       "<Figure size 1152x504 with 1 Axes>"
      ]
     },
     "metadata": {
      "needs_background": "light"
     },
     "output_type": "display_data"
    }
   ],
   "source": [
    "# rec_sq\n",
    "dat = dat.assign(rec_sq=dat[\"rec_iq\"])\n",
    "\n",
    "# freq_sq\n",
    "dat = dat.assign(\n",
    "    freq_sq=dat.groupby(\"rec_sq\")[\"frequency\"].transform(rsm.xtile, 5, rev=True)\n",
    ")\n",
    "\n",
    "# mon_sq\n",
    "dat = dat.assign(\n",
    "    mon_sq=dat.groupby([\"rec_sq\", \"freq_sq\"])[\"monetary\"].transform(rsm.xtile, 5, rev=True)\n",
    ")\n",
    "\n",
    "# rfm_sq\n",
    "dat = dat.assign(\n",
    "    rfm_sq=dat[\"rec_sq\"].astype(str)\n",
    "    + dat[\"freq_sq\"].astype(str)\n",
    "    + dat[\"mon_sq\"].astype(str)\n",
    ")\n",
    "\n",
    "# Visualization\n",
    "plt.figure(figsize=(16, 7))\n",
    "fig = rsm.prop_plot(dat, \"rfm_sq\", \"response\", 1)\n",
    "fig.set_xticklabels(fig.get_xticklabels(), rotation=90)\n",
    "fig = fig.set(xlabel=\"Sequential RFM index (rfm_sq)\")"
   ]
  },
  {
   "cell_type": "markdown",
   "id": "organic-lawyer",
   "metadata": {},
   "source": [
    "## RFM analysis"
   ]
  },
  {
   "cell_type": "markdown",
   "id": "northern-observer",
   "metadata": {},
   "source": [
    "### Split data"
   ]
  },
  {
   "cell_type": "code",
   "execution_count": 20,
   "id": "compliant-jordan",
   "metadata": {},
   "outputs": [],
   "source": [
    "train, test = train_test_split(dat, test_size=0.3, random_state=42, shuffle=True, stratify=dat.response)"
   ]
  },
  {
   "cell_type": "markdown",
   "id": "coral-coaching",
   "metadata": {},
   "source": [
    "The train data is used to select RFM cells which we would like to launch a campaign and the test data set is used to estimate the expected response rate. "
   ]
  },
  {
   "cell_type": "markdown",
   "id": "nonprofit-theta",
   "metadata": {},
   "source": [
    "### Break-even \n",
    "\n",
    "Calculate the response rate when margin equals to sending cost (break-even). The result is used as the criteria to select our targets. \n",
    "\n",
    "#### Assumptions\n",
    "- The cost of sending a promotion e-mail is \\$0.25 per customer.\n",
    "- The margin (excluding the sending cost) is \\$10 per customer."
   ]
  },
  {
   "cell_type": "code",
   "execution_count": 21,
   "id": "objective-vertex",
   "metadata": {},
   "outputs": [
    {
     "name": "stdout",
     "output_type": "stream",
     "text": [
      "The break-even response rate is 5.0%.\n"
     ]
    }
   ],
   "source": [
    "send_cost = 0.5\n",
    "margin = 10\n",
    "breakeven = send_cost/margin\n",
    "print(f\"\"\"The break-even response rate is {round(100*breakeven, 2)}%.\"\"\")"
   ]
  },
  {
   "cell_type": "markdown",
   "id": "nuclear-active",
   "metadata": {},
   "source": [
    "### Baseline (randomly)"
   ]
  },
  {
   "cell_type": "code",
   "execution_count": 22,
   "id": "suited-underground",
   "metadata": {},
   "outputs": [
    {
     "name": "stdout",
     "output_type": "stream",
     "text": [
      "Based on random selection, the number of customers should be sent an offer is 1,964 (95.06%).\n",
      "The response rate for the selected customers is predicted to be 9.47% or 186 buyers.\n",
      "The revenue is equal to $1,860. The expected profit is $878.\n",
      "The mailing cost is estimated to be $982 with a ROME of 89.41%.\n"
     ]
    }
   ],
   "source": [
    "target_rnd = test[test.p_rnd >= breakeven]\n",
    "num_offer_rnd = target_rnd.shape[0]\n",
    "perc_offer_rnd = num_offer_rnd/test.shape[0]\n",
    "perc_resp_rnd = target_rnd.response.mean()\n",
    "num_resp_rnd = target_rnd.response.sum()\n",
    "tot_margin_rnd = num_resp_rnd * margin\n",
    "tot_send_cost_rnd = num_offer_rnd * send_cost\n",
    "tot_profit_rnd = tot_margin_rnd - tot_send_cost_rnd\n",
    "ROME_rnd = tot_profit_rnd/tot_send_cost_rnd\n",
    "print(\n",
    "f\"\"\"Based on random selection, the number of customers should be sent an offer is {int(num_offer_rnd):,} ({round((100 * perc_offer_rnd), 2)}%).\n",
    "The response rate for the selected customers is predicted to be {round((100 * perc_resp_rnd), 2)}% or {int(num_resp_rnd):,} buyers.\n",
    "The revenue is equal to ${int(tot_margin_rnd):,}. The expected profit is ${int(tot_profit_rnd):,}.\n",
    "The mailing cost is estimated to be ${int(tot_send_cost_rnd):,} with a ROME of {round((100 * ROME_rnd), 2)}%.\"\"\"    \n",
    "    )\n"
   ]
  },
  {
   "cell_type": "markdown",
   "id": "satisfied-falls",
   "metadata": {},
   "source": [
    "### Independent RFM analysis"
   ]
  },
  {
   "cell_type": "code",
   "execution_count": 23,
   "id": "handed-paradise",
   "metadata": {},
   "outputs": [],
   "source": [
    "# calculate the average response rate within each RFM cells \n",
    "# and then select cells with a higher response rate than break-even\n",
    "def sendto(x, lev=1, breakeven=breakeven):\n",
    "    return np.nanmean(x == lev) > breakeven\n",
    "\n",
    "# generate the target list\n",
    "\n",
    "def gen_list(df=train, method='rfm_iq', send='sendto_iq'):\n",
    "    return df.loc[df[send], method].unique().tolist()\n",
    "\n",
    "# estimate the expected performance within the selected group\n",
    "\n",
    "def perf_calc(df=test, intro='independence RFM analysis', method='rfm_iq', list=[]):\n",
    "    df = df.assign(sendto = df[method].isin(list))\n",
    "    \n",
    "    # number of offers\n",
    "    perc_offer = np.mean(df['sendto'])\n",
    "    num_offer = sum(df['sendto'])\n",
    "    \n",
    "    # response:\n",
    "    sendto_group = df[df['sendto']]\n",
    "    perc_resp = np.mean(sendto_group[\"response\"])\n",
    "    num_resp = sum(sendto_group[\"response\"])\n",
    "    \n",
    "    # total margin\n",
    "    tot_margin = num_resp * margin\n",
    "\n",
    "    # total sending cost\n",
    "    tot_send_cost = num_offer * send_cost\n",
    "\n",
    "    # total profits\n",
    "    tot_profit = tot_margin - tot_send_cost\n",
    "\n",
    "    # ROME\n",
    "    ROME = tot_profit/tot_send_cost\n",
    "    \n",
    "    # automatic print\n",
    "    print(\n",
    "f\"\"\"Based on {intro}, the number of customers should be sent an offer is {int(num_offer):,} ({round((100 * perc_offer), 2)}%).\n",
    "The response rate for the selected customers is predicted to be {round((100 * perc_resp), 2)}% or {int(num_resp):,} buyers.\n",
    "The revenue is equal to ${int(tot_margin):,}. The expected profit is ${int(tot_profit):,}.\n",
    "The mailing cost is estimated to be ${int(tot_send_cost):,} with a ROME of {round((100 * ROME), 2)}%.\"\"\"    \n",
    "    )\n",
    "    \n",
    "    return tot_profit, ROME"
   ]
  },
  {
   "cell_type": "code",
   "execution_count": 24,
   "id": "signed-norman",
   "metadata": {},
   "outputs": [
    {
     "name": "stdout",
     "output_type": "stream",
     "text": [
      "Based on independence RFM analysis, the number of customers should be sent an offer is 1,310 (63.41%).\n",
      "The response rate for the selected customers is predicted to be 12.75% or 167 buyers.\n",
      "The revenue is equal to $1,670. The expected profit is $1,015.\n",
      "The mailing cost is estimated to be $655 with a ROME of 154.96%.\n"
     ]
    }
   ],
   "source": [
    "train = train.assign(sendto_iq = train.groupby('rfm_iq')['response'].transform(sendto))\n",
    "list_iq = gen_list(df=train, method='rfm_iq', send='sendto_iq')\n",
    "tot_profit_iq, ROME_iq = perf_calc(df=test, \n",
    "                                   intro='independence RFM analysis', \n",
    "                                   method='rfm_iq', \n",
    "                                   list=list_iq)"
   ]
  },
  {
   "cell_type": "markdown",
   "id": "controlling-senior",
   "metadata": {},
   "source": [
    "### Sequential RFM analysis"
   ]
  },
  {
   "cell_type": "code",
   "execution_count": 25,
   "id": "embedded-moses",
   "metadata": {},
   "outputs": [
    {
     "name": "stdout",
     "output_type": "stream",
     "text": [
      "Based on sequential RFM analysis, the number of customers should be sent an offer is 1,250 (60.5%).\n",
      "The response rate for the selected customers is predicted to be 13.44% or 168 buyers.\n",
      "The revenue is equal to $1,680. The expected profit is $1,055.\n",
      "The mailing cost is estimated to be $625 with a ROME of 168.8%.\n"
     ]
    }
   ],
   "source": [
    "train = train.assign(sendto_sq = train.groupby('rfm_sq')['response'].transform(sendto))\n",
    "list_sq = gen_list(df=train, method='rfm_sq', send='sendto_sq')\n",
    "tot_profit_sq, ROME_sq = perf_calc(df=test, \n",
    "                                   intro='sequential RFM analysis', \n",
    "                                   method='rfm_sq', \n",
    "                                   list=list_sq)"
   ]
  },
  {
   "cell_type": "markdown",
   "id": "found-primary",
   "metadata": {},
   "source": [
    "### Sequential RFM analysis with a 0.9 confidence interval \n",
    "\n",
    "For this approach, we used the lower bond of each sequential RFM cell's average response rate with a 0.9 confidence interval and compared the results to break-even response rate. This method considered as a more conservative way with a lower expected profit and a higher ROME."
   ]
  },
  {
   "cell_type": "code",
   "execution_count": 26,
   "id": "collected-aquatic",
   "metadata": {},
   "outputs": [
    {
     "name": "stdout",
     "output_type": "stream",
     "text": [
      "Based on sequential RFM analysis with a 0.9 confidence interval, the number of customers should be sent an offer is 563 (27.25%).\n",
      "The response rate for the selected customers is predicted to be 17.05% or 96 buyers.\n",
      "The revenue is equal to $960. The expected profit is $678.\n",
      "The mailing cost is estimated to be $281 with a ROME of 241.03%.\n"
     ]
    }
   ],
   "source": [
    "def sendto_lb(x, lev=1, breakeven=breakeven):\n",
    "    x = x == lev\n",
    "    return (np.nanmean(x) - 1.64 * np.std(x)/np.sqrt(x.shape[0])) > breakeven\n",
    "\n",
    "train = train.assign(sendto_sqlb = train.groupby('rfm_sq')['response'].transform(sendto_lb))\n",
    "list_sqlb = gen_list(df=train, method='rfm_sq', send='sendto_sqlb')\n",
    "tot_profit_sqlb, ROME_sqlb = perf_calc(df=test, \n",
    "                                   intro='sequential RFM analysis with a 0.9 confidence interval', \n",
    "                                   method='rfm_sq', \n",
    "                                   list=list_sqlb)"
   ]
  },
  {
   "cell_type": "markdown",
   "id": "alpha-porter",
   "metadata": {},
   "source": [
    "### Comparison"
   ]
  },
  {
   "cell_type": "code",
   "execution_count": 27,
   "id": "useful-planning",
   "metadata": {},
   "outputs": [
    {
     "data": {
      "text/html": [
       "<div>\n",
       "<style scoped>\n",
       "    .dataframe tbody tr th:only-of-type {\n",
       "        vertical-align: middle;\n",
       "    }\n",
       "\n",
       "    .dataframe tbody tr th {\n",
       "        vertical-align: top;\n",
       "    }\n",
       "\n",
       "    .dataframe thead th {\n",
       "        text-align: right;\n",
       "    }\n",
       "</style>\n",
       "<table border=\"1\" class=\"dataframe\">\n",
       "  <thead>\n",
       "    <tr style=\"text-align: right;\">\n",
       "      <th></th>\n",
       "      <th>RFM</th>\n",
       "      <th>Profit</th>\n",
       "      <th>ROME</th>\n",
       "    </tr>\n",
       "  </thead>\n",
       "  <tbody>\n",
       "    <tr>\n",
       "      <th>0</th>\n",
       "      <td>random</td>\n",
       "      <td>878.0</td>\n",
       "      <td>0.894094</td>\n",
       "    </tr>\n",
       "    <tr>\n",
       "      <th>1</th>\n",
       "      <td>independent</td>\n",
       "      <td>1015.0</td>\n",
       "      <td>1.549618</td>\n",
       "    </tr>\n",
       "    <tr>\n",
       "      <th>2</th>\n",
       "      <td>sequential</td>\n",
       "      <td>1055.0</td>\n",
       "      <td>1.688000</td>\n",
       "    </tr>\n",
       "    <tr>\n",
       "      <th>3</th>\n",
       "      <td>sequential_lb</td>\n",
       "      <td>678.5</td>\n",
       "      <td>2.410302</td>\n",
       "    </tr>\n",
       "  </tbody>\n",
       "</table>\n",
       "</div>"
      ],
      "text/plain": [
       "             RFM  Profit      ROME\n",
       "0         random   878.0  0.894094\n",
       "1    independent  1015.0  1.549618\n",
       "2     sequential  1055.0  1.688000\n",
       "3  sequential_lb   678.5  2.410302"
      ]
     },
     "execution_count": 27,
     "metadata": {},
     "output_type": "execute_result"
    }
   ],
   "source": [
    "performances = pd.DataFrame({\n",
    "    \"RFM\": [\"random\", \"independent\", \"sequential\", \"sequential_lb\"],\n",
    "    \"Profit\":[tot_profit_rnd, tot_profit_iq, tot_profit_sq, tot_profit_sqlb],\n",
    "    \"ROME\": [ROME_rnd, ROME_iq, ROME_sq, ROME_sqlb]\n",
    "})\n",
    "performances"
   ]
  },
  {
   "cell_type": "code",
   "execution_count": 28,
   "id": "expanded-diversity",
   "metadata": {},
   "outputs": [
    {
     "data": {
      "image/png": "[encoded data removed]",
      "text/plain": [
       "<Figure size 576x288 with 1 Axes>"
      ]
     },
     "metadata": {
      "needs_background": "light"
     },
     "output_type": "display_data"
    }
   ],
   "source": [
    "# profit\n",
    "plt.figure(figsize=(8, 4))\n",
    "fig = sns.barplot(x=\"RFM\", y=\"Profit\", data=performances, ci=None)\n",
    "fig.set(xlabel=\"\", ylabel=\"Profit (in dollars)\", title=\"Expected Profit by Different RFM Analysis\")\n",
    "for index, row in performances.iterrows():\n",
    "    fig.text(\n",
    "        index, row.Profit - 80, f\"${int(row.Profit):,}\", ha=\"center\", color=\"white\", fontsize='large'\n",
    "    )"
   ]
  },
  {
   "cell_type": "code",
   "execution_count": 29,
   "id": "enhanced-safety",
   "metadata": {},
   "outputs": [
    {
     "data": {
      "image/png": "[encoded data removed]",
      "text/plain": [
       "<Figure size 576x288 with 1 Axes>"
      ]
     },
     "metadata": {
      "needs_background": "light"
     },
     "output_type": "display_data"
    }
   ],
   "source": [
    "# ROME\n",
    "plt.figure(figsize=(8, 4))\n",
    "fig = sns.barplot(x=\"RFM\", y=\"ROME\", data=performances, ci=None)\n",
    "fig.set(xlabel=\"\", ylabel=\"ROME\", title=\"ROME by Different RFM Analysis\")\n",
    "for index, row in performances.iterrows():\n",
    "    fig.text(\n",
    "        index, row.ROME - 0.15, f\"{round(100*row.ROME, 2)}%\", ha=\"center\", color=\"white\", fontsize='large'\n",
    "    )"
   ]
  },
  {
   "cell_type": "markdown",
   "id": "pursuant-mixture",
   "metadata": {},
   "source": [
    "## Conslusion"
   ]
  },
  {
   "cell_type": "markdown",
   "id": "hourly-evans",
   "metadata": {},
   "source": [
    "Sequential RFM analysis could maximize profit, while the highest return on marketing expenditures(ROME) was achieved by sequential RFM analysis using the lower bonds of 0.9 confidence interval. \n",
    "\n",
    "Therefore, from the perspective of company's total profit, we should choose sequential RFM analysis. However, considering the risk and ROME, as well as opportunity cost, using a lower bond can also be a good approach."
   ]
  }
 ],
 "metadata": {
  "kernelspec": {
   "display_name": "Python 3",
   "language": "python",
   "name": "python3"
  },
  "language_info": {
   "codemirror_mode": {
    "name": "ipython",
    "version": 3
   },
   "file_extension": ".py",
   "mimetype": "text/x-python",
   "name": "python",
   "nbconvert_exporter": "python",
   "pygments_lexer": "ipython3",
   "version": "3.8.5"
  }
 },
 "nbformat": 4,
 "nbformat_minor": 5
}
